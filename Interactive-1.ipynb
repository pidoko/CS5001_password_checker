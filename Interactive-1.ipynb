{
 "cells": [
  {
   "cell_type": "markdown",
   "metadata": {
    "isInteractiveWindowMessageCell": true
   },
   "source": [
    "Connected to Python 3.11.6"
   ]
  },
  {
   "cell_type": "code",
   "execution_count": 1,
   "metadata": {},
   "outputs": [
    {
     "name": "stdout",
     "output_type": "stream",
     "text": [
      "Welcome to the Password Generator.\n",
      "Your password is ]#D~0Rk1u|Z0\n",
      "It has an entropy of 78.66.\n",
      "It will take about 1508942.0 years to crack using brute-force.\n"
     ]
    }
   ],
   "source": [
    "\"\"\"\n",
    "Final Project: Password generator and checker    \n",
    "=======================\n",
    "Course:   CS 5001\n",
    "Semester: Fall 2023\n",
    "Student:  Peter Idoko\n",
    "\n",
    "Functions that calculate password entropy and brute-force crack time.\n",
    "Main function that utilizes the functions in the generator.py file to run the password generator\n",
    "\"\"\"\n",
    "\n",
    "# Runs the password generator\n",
    "import sys, random, math\n",
    "from string import digits, ascii_letters, punctuation\n",
    "from generator import check_length, check_value, entropy, time\n",
    "\n",
    "# original alphanumeric string with punctuations\n",
    "ALL_LETTERS_DIGITS = digits + ascii_letters + punctuation\n",
    "\n",
    "from generator import (\n",
    "    create_password,\n",
    "    type_password,\n",
    ")\n",
    "\n",
    "def main():\n",
    "    print(\"Welcome to the Password Generator.\")\n",
    "    selection = input(\"Press 1 to create your password and any other key for a computer generated password\")\n",
    "    if selection == '1':\n",
    "        user_input = input(\"Create a password of minimum 12 characters combining lowercase, uppercase, digits and symbols\")\n",
    "        if check_length(user_input) == 1:\n",
    "            output = type_password(user_input)\n",
    "            entropy_value = entropy(ALL_LETTERS_DIGITS, output)\n",
    "            time_value = time(ALL_LETTERS_DIGITS, output)\n",
    "            answer = \"Your password is \"+output+\"\\nIt has an entropy of \"+str(entropy_value)+\".\\nIt will take about \"+str(time_value)+\" years to crack using brute-force.\"\n",
    "            print(answer)\n",
    "            return 1\n",
    "        else:\n",
    "            print(\"Password length must be longer than 11.\")\n",
    "    else:\n",
    "        user_input = int(input(\"How long do you want your password to be? minimum 12: \"))\n",
    "        if check_value(user_input) == 1:\n",
    "            output = create_password(user_input)\n",
    "            entropy_value = entropy(ALL_LETTERS_DIGITS, output)\n",
    "            time_value = time(ALL_LETTERS_DIGITS, output)\n",
    "            answer = \"Your password is \"+output+\"\\nIt has an entropy of \"+str(entropy_value)+\".\\nIt will take about \"+str(time_value)+\" years to crack using brute-force.\"\n",
    "            print(answer)\n",
    "            return 1\n",
    "        else:\n",
    "            print(\"Password length must be longer than 11.\")\n",
    "            return 0\n",
    "\n",
    "    return 0\n",
    "\n",
    "if __name__ == \"__main__\":\n",
    "    main()"
   ]
  }
 ],
 "metadata": {
  "kernelspec": {
   "display_name": "Python 3",
   "language": "python",
   "name": "python3"
  },
  "language_info": {
   "name": "python",
   "version": "3.11.6"
  }
 },
 "nbformat": 4,
 "nbformat_minor": 2
}
